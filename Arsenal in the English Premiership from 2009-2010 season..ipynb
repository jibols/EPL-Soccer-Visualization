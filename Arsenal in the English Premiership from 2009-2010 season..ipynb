{
 "cells": [
  {
   "cell_type": "markdown",
   "metadata": {},
   "source": [
    "# Arsenal in the English Premiership  from 2009-2010 season till date.\n",
    "\n",
    "This project is an analysis and visualization of the performance of Arsenal Football Club over the last 10 seasons in the English Premiership. The datasets used in this project have been pulled from https://datahub.io/sports-data/english-premier-league#data.  \n",
    "The performance measures of interest are:\n",
    "1. Win percentage against each of the teams faced in the 10 season period.\n",
    "2. Win percentage by the officiating referees ....."
   ]
  },
  {
   "cell_type": "markdown",
   "metadata": {},
   "source": [
    "### Import required libraries for data analysis and visualization.\n",
    "Pandas is required for data analysis and \n",
    "Bokeh is required for data visualization"
   ]
  },
  {
   "cell_type": "code",
   "execution_count": 115,
   "metadata": {},
   "outputs": [],
   "source": [
    "#Import required libraries\n",
    "#pip install datatable not on windows\n",
    "import pandas as pd\n",
    "import numpy as np\n",
    "import matplotlib.pyplot as plt\n",
    "import math\n",
    "from bokeh.models.widgets import Panel, Tabs\n",
    "from bokeh.io import show, output_file\n",
    "from bokeh.plotting import figure, gmap\n",
    "from bokeh.models import ColumnDataSource,GMapOptions, HoverTool, LinearInterpolator, CategoricalColorMapper\n",
    "from bokeh.models.glyphs import MultiLine\n",
    "from bokeh.plotting import figure, show, output_notebook\n",
    "from bokeh.tile_providers import get_provider, Vendors\n",
    "from bokeh.palettes import Category10\n",
    "%matplotlib inline"
   ]
  },
  {
   "cell_type": "markdown",
   "metadata": {},
   "source": [
    "### Read in data from url\n",
    "This dataset contains data for last 10 seasons of English Premier League from 2009-2019. Data for each season is recorded in a separate csv file."
   ]
  },
  {
   "cell_type": "code",
   "execution_count": 280,
   "metadata": {},
   "outputs": [],
   "source": [
    "dateparse = lambda x: pd.datetime.strptime(x, '%d/%m/%y')\n",
    "dp = lambda x: pd.datetime.strptime(x, '%d/%m/%y')\n",
    "season_one = pd.read_csv(\"https://datahub.io/sports-data/english-premier-league/r/season-0910.csv\",parse_dates=['Date'])\n",
    "season_two = pd.read_csv(\"https://datahub.io/sports-data/english-premier-league/r/season-1011.csv\",parse_dates=['Date'], date_parser=dateparse)   \n",
    "season_three = pd.read_csv(\"https://datahub.io/sports-data/english-premier-league/r/season-1112.csv\",parse_dates=['Date'], date_parser=dateparse)\n",
    "season_four = pd.read_csv(\"https://datahub.io/sports-data/english-premier-league/r/season-1213.csv\",parse_dates=['Date'], date_parser=dateparse) \n",
    "season_five = pd.read_csv(\"https://datahub.io/sports-data/english-premier-league/r/season-1314.csv\",parse_dates=['Date'], date_parser=dateparse)\n",
    "season_six = pd.read_csv(\"https://datahub.io/sports-data/english-premier-league/r/season-1415.csv\", parse_dates=['Date'], date_parser=dateparse)\n",
    "season_seven = pd.read_csv(\"https://datahub.io/sports-data/english-premier-league/r/season-1516.csv\",parse_dates=['Date'], date_parser=dateparse) \n",
    "season_eight = pd.read_csv(\"https://datahub.io/sports-data/english-premier-league/r/season-1617.csv\",parse_dates=['Date'], date_parser=dateparse)\n",
    "season_nine = pd.read_csv(\"https://datahub.io/sports-data/english-premier-league/r/season-1718.csv\",parse_dates=['Date'], date_parser=dateparse)  \n",
    "season_ten = pd.read_csv(\"https://datahub.io/sports-data/english-premier-league/r/season-1819.csv\")\n",
    "season_ten['Date'] = pd.to_datetime(season_ten['Date'], format='%d/%m/%Y')"
   ]
  },
  {
   "cell_type": "markdown",
   "metadata": {},
   "source": [
    "### Merge all 10 dataframes into a single dataframe"
   ]
  },
  {
   "cell_type": "code",
   "execution_count": 281,
   "metadata": {},
   "outputs": [],
   "source": [
    "allseasons = pd.concat([season_one,season_two,season_three,season_four,season_five,season_six,season_seven,season_eight,\n",
    "                       season_nine,season_ten], sort=False)      "
   ]
  },
  {
   "cell_type": "markdown",
   "metadata": {},
   "source": [
    "### Enrich Data  by retrieving the stadium locations for each team in the dataset \n",
    "Pull data from the Wikipedia page entry for the <a href=\"https://en.wikipedia.org/wiki/List_of_Premier_League_stadiums\">Premier League Stadia</a>."
   ]
  },
  {
   "cell_type": "code",
   "execution_count": 282,
   "metadata": {},
   "outputs": [],
   "source": [
    "# Create a dictionary of 8 regions\n",
    "region = {\"Anglia\":[\"Norwich City\", \"Leicester City\"],\n",
    "          \"West Midlands\":[\"Aston Villa\",\"Birmingham City\",\"West Bromwich Albion\", \"Stoke City\", \"Wolverhampton Wanderers\"],\n",
    "          \"Wales\":[\"Swansea City\",\"Cardiff City\"], \"London\": [\"Watford\",\"Reading\",\"Chelsea\", \"Fulham\", \"Arsenal\", \"Crystal Palace\",\"West Ham United\", \n",
    "         \"Queens Park Rangers\", \"Tottenham Hotspur\"], \n",
    "          \"Yorkshire\":[\"Hull City\", \"Huddersfield Town\"],\n",
    "          \"NorthEast\": [\"Sunderland\",\"Middlesbrough\",\"Newcastle United\"],\n",
    "         \"NorthWest\": [\"Wigan Athletic\",\"Burnley\",\"Everton\",\"Liverpool\",\"Manchester United\",\"Manchester City\", \"Blackpool\", \"Bolton Wanderers\",\"Blackburn Rovers\"], \n",
    "          \"South\": [\"Southampton\",\"Portsmouth\", \"Bournemouth\", \"Brighton & Hove Albion\"]}\n",
    "# Setup list for clubs to drop\n",
    "clubs_to_drop = ['Oldham Athletic','Ipswich Town','Charlton Athletic','Bradford City', 'Swindon Town', 'Nottingham Forest', 'Barnsley',\\\n",
    "                 'Ipswich Town', 'Leeds United', 'Sheffield Wednesday', 'Sheffield United', 'Derby County']\n",
    "# Read stadium data from wikipedia page\n",
    "stadia = pd.read_html(\"https://en.wikipedia.org/wiki/List_of_Premier_League_stadiums\", header = 0)\n",
    "columns = ['Club','Stadium','Coordinates', 'Closed', 'Opened']\n",
    "stadia = stadia[0][columns]\n",
    "\n",
    "# Drop stadia closed before 2009\n",
    "stadia = stadia[~stadia['Closed'].isin(list(range(1991,2009)))].reset_index(drop = True)\n",
    "\n",
    "# Drop clubs that have not particpated since 2009\n",
    "stadia = stadia[~stadia['Club'].isin(clubs_to_drop)].reset_index(drop = True)\n",
    "\n",
    "# Clean Club columns for Queens Park Rangers and Crystal Palace\n",
    "stadia['Club'].replace(\"Crystal Palace & Wimbledon\", \"Crystal Palace\", inplace = True)\n",
    "stadia['Club'].replace(\"Queens Park Rangers& Fulham\", \"Queens Park Rangers\", inplace = True)\n",
    "\n",
    "# map region dictionary to dataframe\n",
    "region = {k: oldk for oldk, oldv in region.items() for k in oldv}\n",
    "stadia['Region'] = stadia['Club'].map(region)\n",
    "\n",
    "# Drop duplicate data for West Ham and Totteham Hotspur\n",
    "stadia.drop_duplicates(subset =\"Club\",inplace=True)\n",
    "\n",
    "#st = set(stadia['Club'].unique())\n",
    "#ts = set(allseasons['HomeTeam'].unique())\n",
    "#cb = [x for x in st if x not in ts]\n",
    "\n",
    "# Update the club names in the allseason dataframe to the full names of the clubs\n",
    "allseasons['HomeTeam'].replace(np.sort(allseasons['HomeTeam'].unique()), np.sort(stadia['Club'].unique()), inplace = True)\n",
    "allseasons['AwayTeam'].replace(np.sort(allseasons['AwayTeam'].unique()), np.sort(stadia['Club'].unique()), inplace = True)"
   ]
  },
  {
   "cell_type": "markdown",
   "metadata": {},
   "source": [
    "### Utility functions for Feature Engineering and transform the dataset\n",
    "Functions check_latitude and check_longitutde extract the geo-coordinates from the Coordinates column in the dataframe"
   ]
  },
  {
   "cell_type": "code",
   "execution_count": 283,
   "metadata": {},
   "outputs": [],
   "source": [
    "# Function to extract latitude and transform to a \n",
    "def check_latitude(row):\n",
    "    #latitude = \"\"\n",
    "    longitude = \"-\"\n",
    "    r_major = 6378137.000\n",
    "    longitude += row['Coordinates'].split('/')[1].split(\" \")[2].replace(u'\\ufeff', '')\n",
    "    longitude = float(longitude[:-2])\n",
    "    x = r_major * math.radians(longitude)\n",
    "    return x    \n",
    "    \n",
    "def check_longitude(row):\n",
    "    latitude = \"\"\n",
    "    longitude = \"-\"\n",
    "    r_major = 6378137.000\n",
    "    latitude += row['Coordinates'].split('/')[1].split(\" \")[1].replace(u'\\ufeff', '')\n",
    "    longitude += row['Coordinates'].split('/')[1].split(\" \")[2].replace(u'\\ufeff', '')\n",
    "    longitude = float(longitude[:-2])\n",
    "    latitude = float(latitude[:-2])\n",
    "    x = r_major * math.radians(longitude)\n",
    "    scale = x/longitude    \n",
    "    y  = 180.0 / math.pi * math.log(math.tan(math.pi/4.0 + latitude * (math.pi/180)/2.0)) * scale\n",
    "    return y"
   ]
  },
  {
   "cell_type": "code",
   "execution_count": 284,
   "metadata": {},
   "outputs": [],
   "source": [
    "# Process the Coordinates columns and split to Latitude and Lonigtude Columns\n",
    "stadia.loc[:, 'Y_Coords'] = stadia.apply(check_longitude, axis = 1)\n",
    "stadia.loc[:, 'X_Coords'] = stadia.apply(check_latitude, axis = 1)\n",
    "to_drop = ['Coordinates','Closed','Opened']\n",
    "stadia.drop(to_drop, axis=1, inplace = True)\n",
    "stadia.sort_values(by=['Club'], inplace = True)\n",
    "stadia.set_index('Club', inplace = True)"
   ]
  },
  {
   "cell_type": "markdown",
   "metadata": {},
   "source": [
    "### Select games where Arsenal played home or away: 38 games per season (380 games in total)."
   ]
  },
  {
   "cell_type": "code",
   "execution_count": 285,
   "metadata": {},
   "outputs": [],
   "source": [
    "# Slice the dataframe to select rows where Arsenal either Away or at Home\n",
    "allseasonsArsenal = allseasons[(allseasons['AwayTeam'] == 'Arsenal') | (allseasons['HomeTeam'] == 'Arsenal')]"
   ]
  },
  {
   "cell_type": "markdown",
   "metadata": {},
   "source": [
    "### Quick plot showing the referees who have officiated who have officiated Arsenal games"
   ]
  },
  {
   "cell_type": "code",
   "execution_count": 286,
   "metadata": {},
   "outputs": [
    {
     "data": {
      "text/plain": [
       "<matplotlib.axes._subplots.AxesSubplot at 0x2aa9b635eb8>"
      ]
     },
     "execution_count": 286,
     "metadata": {},
     "output_type": "execute_result"
    },
    {
     "data": {
      "image/png": "[encoded data removed]",
      "text/plain": [
       "<Figure size 432x288 with 1 Axes>"
      ]
     },
     "metadata": {},
     "output_type": "display_data"
    }
   ],
   "source": [
    "allseasonsArsenal.groupby(['Referee']).size().nlargest(10).plot(kind='bar')"
   ]
  },
  {
   "cell_type": "markdown",
   "metadata": {},
   "source": [
    "### Check the result type: W for Win , D for draw and L for Loss"
   ]
  },
  {
   "cell_type": "code",
   "execution_count": 287,
   "metadata": {},
   "outputs": [],
   "source": [
    "def check_results(row):\n",
    "    result = \"\"\n",
    "    res = row['FTR']\n",
    "    team1 = row['HomeTeam']\n",
    "    team2 = row['AwayTeam']\n",
    "    if (team1 == 'Arsenal') & (res == 'H'):\n",
    "        result = 'W'\n",
    "    elif (team1 == 'Arsenal') & (res == 'A'):\n",
    "        result = 'L'\n",
    "    elif (team2 == 'Arsenal') & (res == 'A'):\n",
    "        result = 'W'\n",
    "    elif (team2 == 'Arsenal') & (res == 'H'):\n",
    "        result = 'L'\n",
    "    else:\n",
    "        result = 'D'       \n",
    "\n",
    "    return result"
   ]
  },
  {
   "cell_type": "markdown",
   "metadata": {},
   "source": [
    "### Function to assign points to the result: 1 Point for Draw/Tie, 0 Points for a loass and 3 points for a win"
   ]
  },
  {
   "cell_type": "code",
   "execution_count": 288,
   "metadata": {},
   "outputs": [],
   "source": [
    "def check_points(row):\n",
    "    points = 0\n",
    "    result = row['Result']\n",
    "    if result == 'D':\n",
    "        points = 1\n",
    "    elif result == 'W':\n",
    "        points = 3\n",
    "    else:\n",
    "        points = 0    \n",
    "    return points"
   ]
  },
  {
   "cell_type": "markdown",
   "metadata": {},
   "source": [
    "### Determine the season the match was played based on the date interval. Season  starts in August and ends in May "
   ]
  },
  {
   "cell_type": "code",
   "execution_count": 289,
   "metadata": {},
   "outputs": [],
   "source": [
    "def check_season(row):\n",
    "    season = \"\"\n",
    "    date = row['Date']\n",
    "    if   (date >= pd.to_datetime('2009-08-05')) & (date <= pd.to_datetime('2010-05-21')):\n",
    "        season += \"09-10\"\n",
    "    elif (date >= pd.to_datetime('2010-08-14')) & (date <= pd.to_datetime('2011-05-23')):\n",
    "        season += \"10-11\"\n",
    "    elif (date >= pd.to_datetime('2011-08-13')) & (date <= pd.to_datetime('2012-05-13')):\n",
    "        season += \"11-12\"\n",
    "    elif (date >= pd.to_datetime(\"2012-08-18\")) & (date <= pd.to_datetime(\"2013-05-19\")): \n",
    "        season += \"12-13\" \n",
    "    elif (date >= pd.to_datetime(\"2013-08-17\")) & (date <= pd.to_datetime(\"2014-05-11\")): \n",
    "        season += \"13-14\" \n",
    "    elif (date >= pd.to_datetime(\"2014-08-16\")) & (date <= pd.to_datetime(\"2015-05-24\")): \n",
    "        season += \"14-15\" \n",
    "    elif (date >= pd.to_datetime(\"2015-08-08\")) & (date <= pd.to_datetime(\"2016-05-15\")): \n",
    "        season += \"15-16\" \n",
    "    elif (date >= pd.to_datetime(\"2016-08-13\")) & (date <= pd.to_datetime(\"2017-05-21\")): \n",
    "        season += \"16-17\" \n",
    "    elif (date >= pd.to_datetime(\"2017-08-11\")) & (date <= pd.to_datetime(\"2018-05-13\")):\n",
    "        season += \"17-18\"\n",
    "    elif (date >= pd.to_datetime(\"2018-08-05\")) & (date <= pd.to_datetime(\"2019-05-20\")):\n",
    "        season += \"18-19\"\n",
    "    else:\n",
    "        season = season\n",
    "    return season"
   ]
  },
  {
   "cell_type": "markdown",
   "metadata": {},
   "source": [
    "### Create new columns for results, pints, season and progress(The Sum of points accrued per season)"
   ]
  },
  {
   "cell_type": "code",
   "execution_count": 292,
   "metadata": {},
   "outputs": [],
   "source": [
    "allseasonsArsenal.loc[:,'Result'] = allseasonsArsenal.apply(check_results, axis = 1)\n",
    "allseasonsArsenal.loc[:,'Points'] = allseasonsArsenal.apply(check_points, axis = 1)\n",
    "allseasonsArsenal.loc[:,'Season'] = allseasonsArsenal.apply(check_season, axis = 1)\n",
    "allseasonsArsenal.loc[:,'Progress'] = allseasonsArsenal.groupby('Season')['Points'].cumsum() "
   ]
  },
  {
   "cell_type": "markdown",
   "metadata": {},
   "source": [
    "### Function to calculate the results by the referee who officiated"
   ]
  },
  {
   "cell_type": "code",
   "execution_count": 18,
   "metadata": {},
   "outputs": [],
   "source": [
    "def win_percent_by_referee(df):\n",
    "    temp = pd.DataFrame({'count' : df.groupby( [ 'Referee', 'Results'] )['Referee'].size()}).reset_index()\n",
    "    temp['count'].astype(int)\n",
    "    temp['Percent'] = round(temp.groupby('Referee')['count'].transform(lambda x: x/sum(x) * 100))\n",
    "    temp = pd.pivot_table(temp, values='Percent', index=['Referee'],columns=['Results'], aggfunc=np.sum)\n",
    "    temp.columns = ['Draw%', 'Loss%', 'Win%']\n",
    "    temp.fillna(0,inplace=True)\n",
    "    print (str(len(df['Referee'].unique())) + \" referees officiated matches in the \" + \n",
    "           str(len(allseasonsArsenal['Season'].unique())) + \" seasons\")\n",
    "    return temp"
   ]
  },
  {
   "cell_type": "code",
   "execution_count": 19,
   "metadata": {},
   "outputs": [],
   "source": [
    "# Find win, draw, loss, goald for, goals against, goal difference and points by season\n",
    "results = pd.DataFrame({'Count' : allseasonsArsenal.groupby(['Season', 'Result']).size()}).reset_index()\n",
    "results = pd.pivot_table(results, values='Count', index=['Season'],columns=['Result'], aggfunc=np.sum)"
   ]
  },
  {
   "cell_type": "code",
   "execution_count": 20,
   "metadata": {},
   "outputs": [],
   "source": [
    "# Calculate the total results against all teams per season\n",
    "def results_by_team(df):\n",
    "    away = df.groupby(['AwayTeam','HomeTeam','Result']).size().to_frame('size')\n",
    "    away = pd.pivot_table(away, values='size', index=['HomeTeam'],columns=['Result'], aggfunc=np.sum)\n",
    "    away.fillna(0,inplace=True)\n",
    "    home = df.groupby(['HomeTeam','AwayTeam','Result']).size().to_frame('size')\n",
    "    home = pd.pivot_table(home, values='size', index=['AwayTeam'],columns=['Result'], aggfunc=np.sum)\n",
    "    home.fillna(0,inplace=True)\n",
    "    temp = away.add(home, fill_value=0)\n",
    "    temp['Win%'] = round((temp['W']/ temp.sum(axis = 1)) * 100, 1)\n",
    "    temp.drop(['Arsenal'], inplace=True)\n",
    "    print (\"Arsenal played against \" + str(len(allseasonsArsenal['HomeTeam'].unique())) + \" teams in the \" + \n",
    "       str(len(allseasonsArsenal['Season'].unique())) + \" seasons\")\n",
    "    print (\"Arsenal won \"+str(allseasonsArsenal.groupby(['Result']).size().to_frame('size').loc['W'][0]) + \" games, drew \"\n",
    "           + str(allseasonsArsenal.groupby(['Result']).size().to_frame('size').loc['D'][0])\n",
    "           +\" games and lost \" + str(allseasonsArsenal.groupby(['Result']).size().to_frame('size').loc['L'][0])\n",
    "           + \" games in the \" + str(len(allseasonsArsenal['Season'].unique())) + \" seasons\")\n",
    "    return temp"
   ]
  },
  {
   "cell_type": "code",
   "execution_count": 293,
   "metadata": {},
   "outputs": [],
   "source": [
    "# Extend results by team to break the results down into HomeWins and Away wins\n",
    "def ex_results_by_team(df):\n",
    "    away = df.groupby(['AwayTeam','HomeTeam','Result']).size().to_frame('size')\n",
    "    away = pd.pivot_table(away, values='size', index=['HomeTeam'],columns=['Result'], aggfunc=np.sum)\n",
    "    away.fillna(0,inplace=True)\n",
    "    home = df.groupby(['HomeTeam','AwayTeam','Result']).size().to_frame('size')\n",
    "    home = pd.pivot_table(home, values='size', index=['AwayTeam'],columns=['Result'], aggfunc=np.sum)\n",
    "    home.fillna(0,inplace=True)\n",
    "    home['W%'] = round((home['W']/ home.sum(axis = 1)) * 100, 1)\n",
    "    away['W%'] = round((away['W']/ away.sum(axis=1)) * 100, 1)\n",
    "    cols = ['D','L','W']\n",
    "    home['Home Games'] = home[cols].sum(axis=1).astype(int)\n",
    "    away['Away Games'] = away[cols].sum(axis=1).astype(int)\n",
    "    home.columns = [\"Home Draw\",\"Home Loss\",\"Home Win\",\"HomeWinPct\", \"HomeGames\"]\n",
    "    away.columns = [\"Away Draw\",\"Away Loss\",\"Away Win\",\"AwayWinPct\", \"AwayGames\"]\n",
    "                    \n",
    "    # Insert the stadium location(Coordinates) as two columns\n",
    "    ars_combined = pd.concat([home, away] ,axis=1)\n",
    "    # Merge with the stadia dataset\n",
    "    ars_combined = ars_combined.join(stadia)\n",
    "    return ars_combined"
   ]
  },
  {
   "cell_type": "markdown",
   "metadata": {},
   "source": [
    "### Select Away Games and Home Games"
   ]
  },
  {
   "cell_type": "code",
   "execution_count": 294,
   "metadata": {},
   "outputs": [],
   "source": [
    "allseasonsAway = allseasonsArsenal[allseasonsArsenal['AwayTeam'] == 'Arsenal']\n",
    "allseasonsHome = allseasonsArsenal[allseasonsArsenal['HomeTeam'] == 'Arsenal']"
   ]
  },
  {
   "cell_type": "markdown",
   "metadata": {},
   "source": [
    "### Goals conceded home and away by season"
   ]
  },
  {
   "cell_type": "code",
   "execution_count": 295,
   "metadata": {
    "scrolled": true
   },
   "outputs": [],
   "source": [
    "allseasonsHome.loc[:, 'HomeConceeded'] = allseasonsHome.groupby('Season')['FTAG'].cumsum() \n",
    "homeGoalsConceeded = allseasonsHome.groupby(['Season'])['HomeConceeded'].tail(1)\n",
    "allseasonsAway.loc[:, 'AwayConceeded'] = allseasonsAway.groupby('Season')['FTHG'].cumsum() \n",
    "awayGoalsConceeded = allseasonsAway.groupby(['Season'])['AwayConceeded'].tail(1)"
   ]
  },
  {
   "cell_type": "markdown",
   "metadata": {},
   "source": [
    "### Goals scored away and  at home by season."
   ]
  },
  {
   "cell_type": "code",
   "execution_count": 296,
   "metadata": {},
   "outputs": [],
   "source": [
    "allseasonsAway.loc[:, 'AwayScored'] = allseasonsAway.groupby('Season')['FTAG'].cumsum() \n",
    "awayGoalsScored = allseasonsAway.groupby(['Season'])['AwayScored'].tail(1)\n",
    "allseasonsHome.loc[:, 'HomeScored'] = allseasonsHome.groupby('Season')['FTHG'].cumsum()\n",
    "homeGoalsScored = allseasonsHome.groupby(['Season'])['HomeScored'].tail(1)"
   ]
  },
  {
   "cell_type": "code",
   "execution_count": 297,
   "metadata": {},
   "outputs": [],
   "source": [
    "# Points amassed by season\n",
    "arsenalPoints = allseasonsArsenal.groupby(['Season'])['Progress'].tail(1)"
   ]
  },
  {
   "cell_type": "code",
   "execution_count": 298,
   "metadata": {},
   "outputs": [],
   "source": [
    "arsenal_positions = ['3rd','4th','3rd','4th','4th','3rd','2nd','5th','6th','5th']"
   ]
  },
  {
   "cell_type": "code",
   "execution_count": 299,
   "metadata": {},
   "outputs": [
    {
     "data": {
      "text/plain": [
       "array(['09-10', '10-11', '11-12', '12-13', '13-14', '14-15', '15-16',\n",
       "       '16-17', '17-18', '18-19'], dtype=object)"
      ]
     },
     "execution_count": 299,
     "metadata": {},
     "output_type": "execute_result"
    }
   ],
   "source": [
    "allseasonsArsenal['Season'].unique()"
   ]
  },
  {
   "cell_type": "markdown",
   "metadata": {},
   "source": [
    "### Combine the extract series and group by results into a single dataframe"
   ]
  },
  {
   "cell_type": "code",
   "execution_count": 339,
   "metadata": {},
   "outputs": [
    {
     "data": {
      "text/html": [
       "<div>\n",
       "<style scoped>\n",
       "    .dataframe tbody tr th:only-of-type {\n",
       "        vertical-align: middle;\n",
       "    }\n",
       "\n",
       "    .dataframe tbody tr th {\n",
       "        vertical-align: top;\n",
       "    }\n",
       "\n",
       "    .dataframe thead th {\n",
       "        text-align: right;\n",
       "    }\n",
       "</style>\n",
       "<table border=\"1\" class=\"dataframe\">\n",
       "  <thead>\n",
       "    <tr style=\"text-align: right;\">\n",
       "      <th></th>\n",
       "      <th>Season</th>\n",
       "      <th>For</th>\n",
       "      <th>Against</th>\n",
       "      <th>Points</th>\n",
       "      <th>Position</th>\n",
       "    </tr>\n",
       "  </thead>\n",
       "  <tbody>\n",
       "    <tr>\n",
       "      <th>0</th>\n",
       "      <td>09-10</td>\n",
       "      <td>83</td>\n",
       "      <td>41</td>\n",
       "      <td>75</td>\n",
       "      <td>3rd</td>\n",
       "    </tr>\n",
       "    <tr>\n",
       "      <th>1</th>\n",
       "      <td>10-11</td>\n",
       "      <td>72</td>\n",
       "      <td>43</td>\n",
       "      <td>68</td>\n",
       "      <td>4th</td>\n",
       "    </tr>\n",
       "    <tr>\n",
       "      <th>2</th>\n",
       "      <td>11-12</td>\n",
       "      <td>74</td>\n",
       "      <td>49</td>\n",
       "      <td>70</td>\n",
       "      <td>3rd</td>\n",
       "    </tr>\n",
       "    <tr>\n",
       "      <th>3</th>\n",
       "      <td>12-13</td>\n",
       "      <td>72</td>\n",
       "      <td>37</td>\n",
       "      <td>73</td>\n",
       "      <td>4th</td>\n",
       "    </tr>\n",
       "    <tr>\n",
       "      <th>4</th>\n",
       "      <td>13-14</td>\n",
       "      <td>68</td>\n",
       "      <td>41</td>\n",
       "      <td>79</td>\n",
       "      <td>4th</td>\n",
       "    </tr>\n",
       "    <tr>\n",
       "      <th>5</th>\n",
       "      <td>14-15</td>\n",
       "      <td>71</td>\n",
       "      <td>36</td>\n",
       "      <td>75</td>\n",
       "      <td>3rd</td>\n",
       "    </tr>\n",
       "    <tr>\n",
       "      <th>6</th>\n",
       "      <td>15-16</td>\n",
       "      <td>65</td>\n",
       "      <td>36</td>\n",
       "      <td>71</td>\n",
       "      <td>2nd</td>\n",
       "    </tr>\n",
       "    <tr>\n",
       "      <th>7</th>\n",
       "      <td>16-17</td>\n",
       "      <td>77</td>\n",
       "      <td>44</td>\n",
       "      <td>75</td>\n",
       "      <td>5th</td>\n",
       "    </tr>\n",
       "    <tr>\n",
       "      <th>8</th>\n",
       "      <td>17-18</td>\n",
       "      <td>74</td>\n",
       "      <td>51</td>\n",
       "      <td>63</td>\n",
       "      <td>6th</td>\n",
       "    </tr>\n",
       "    <tr>\n",
       "      <th>9</th>\n",
       "      <td>18-19</td>\n",
       "      <td>73</td>\n",
       "      <td>51</td>\n",
       "      <td>70</td>\n",
       "      <td>5th</td>\n",
       "    </tr>\n",
       "  </tbody>\n",
       "</table>\n",
       "</div>"
      ],
      "text/plain": [
       "  Season  For  Against  Points Position\n",
       "0  09-10   83       41      75      3rd\n",
       "1  10-11   72       43      68      4th\n",
       "2  11-12   74       49      70      3rd\n",
       "3  12-13   72       37      73      4th\n",
       "4  13-14   68       41      79      4th\n",
       "5  14-15   71       36      75      3rd\n",
       "6  15-16   65       36      71      2nd\n",
       "7  16-17   77       44      75      5th\n",
       "8  17-18   74       51      63      6th\n",
       "9  18-19   73       51      70      5th"
      ]
     },
     "execution_count": 339,
     "metadata": {},
     "output_type": "execute_result"
    }
   ],
   "source": [
    "arsenal_combined= pd.concat([pd.Series(allseasonsArsenal['Season'].unique()),\n",
    "                           homeGoalsScored.reset_index(drop = True) + awayGoalsScored.reset_index(drop = True),\n",
    "                           homeGoalsConceeded.reset_index(drop = True) + awayGoalsConceeded.reset_index(drop = True),\n",
    "                           arsenalPoints.reset_index(drop = True),pd.Series(arsenal_positions),] ,axis=1)\n",
    "arsenal_combined.columns = ['Season','For','Against','Points', 'Position']\n",
    "arsenal_combined"
   ]
  },
  {
   "cell_type": "markdown",
   "metadata": {},
   "source": [
    "### Create a ColumnDataSource for Points, HomeGoals, AwayGoals, HomeConceeded, AwayConceeded"
   ]
  },
  {
   "cell_type": "code",
   "execution_count": 360,
   "metadata": {},
   "outputs": [],
   "source": [
    "arsenal_combined_cds = ColumnDataSource(arsenal_combined)\n",
    "#results_team_cds = ColumnDataSource(results_by_team(allseasonsArsenal))\n",
    "#results_referee_cds = ColumnDataSource(win_percent_by_referee(allseasonsArsenal))\n",
    "#spurs_cds = ColumnDataSource(spurs_combined)"
   ]
  },
  {
   "cell_type": "markdown",
   "metadata": {},
   "source": [
    "### Create and configure the figure"
   ]
  },
  {
   "cell_type": "code",
   "execution_count": 361,
   "metadata": {},
   "outputs": [],
   "source": [
    "# Set up hover tool and figure\n",
    "goals_fig = figure(x_range = arsenal_combined_cds.data['Season'],plot_height=400, plot_width=500,\n",
    "             title='Arsenal in the EPL', x_axis_label='Season', y_axis_label='Goals',\n",
    "             tools=['wheel_zoom','save','pan','box_zoom','reset'])\n",
    "# Goals scored\n",
    "p = goals_fig.line('Season', 'For',color='#CE1141', legend='Scored',source=arsenal_combined_cds)\n",
    "goals_fig .add_tools(HoverTool(renderers=[p], tooltips=[(\"Goals For\",\"@For\")]))\n",
    "\n",
    "# Goals conceeded\n",
    "q = goals_fig.line('Season', 'Against',color='#006BB6', legend='Conceeded', source=arsenal_combined_cds)\n",
    "goals_fig.add_tools(HoverTool(renderers=[q], tooltips=[(\"Goals Against\",\"@Against\")]))\n",
    "\n",
    "# Move the legend to the upper left corner\n",
    "goals_fig.legend.location = 'top_right'\n",
    "goals_fig.legend.border_line_color = None\n",
    "goals_fig.right.append(goals_fig.legend[0])\n",
    "goals_fig.title.text = 'Arsenal goals scored and conceeded since 2009' \n",
    "\n",
    "#Implement hide on click\n",
    "#goals_fig.legend.click_policy=\"hide\"\n"
   ]
  },
  {
   "cell_type": "code",
   "execution_count": 362,
   "metadata": {},
   "outputs": [],
   "source": [
    "#hover = HoverTool(tooltips=[(\"Position\",\"@Position\"),(\"Points\", \"@Points\")])\n",
    "points_fig = figure(x_range = arsenal_combined_cds.data['Season'],plot_height=400, plot_width=500,\n",
    "             title='Arsenal in the EPL', x_axis_label='Season', y_axis_label='Points',\n",
    "             tools=[HoverTool(tooltips=[(\"Position\",\"@Position\"),(\"Points\", \"@Points\")]), \n",
    "                    'wheel_zoom','save','pan','box_zoom','reset'])    \n",
    "\n",
    "points_fig.line('Season', 'Points', \n",
    "         color='#CE1141', legend='Points Amassed', \n",
    "         source=arsenal_combined_cds)\n",
    "\n",
    "# Move the legend to the upper left corner\n",
    "points_fig.legend.location = 'top_right'\n"
   ]
  },
  {
   "cell_type": "code",
   "execution_count": 363,
   "metadata": {},
   "outputs": [],
   "source": [
    "# Plot the win percentage as circle around the stadia\n",
    "win_percent = ex_results_by_team(allseasonsArsenal)\n",
    "win_percent.reset_index(level=0, inplace=True)\n",
    "win_percent_cds = ColumnDataSource(win_percent)\n",
    "# Scale win percentage change to LinearInterpolator\n",
    "size_mapper = LinearInterpolator(\n",
    "              x = [sam['AwayWinPct'].min(), sam['AwayWinPct'].max()],\n",
    "              y = [10,50]\n",
    "              )\n",
    "# Color the circles by region\n",
    "color_mapper= CategoricalColorMapper(\n",
    "              factors = list(stadia['Region'].unique()),\n",
    "              palette = Category10[8],\n",
    "              )\n",
    "# Setup HoverTool\n",
    "hover = HoverTool(tooltips=[(\"Club\",\"@index\"),(\"Stadium\", \"@Stadium\"),(\"ArsenalWin%\", \"@AwayWinPct{1.1}\"),(\"Games\",\"@HomeGames\")])\n",
    "location_fig = figure(x_range=(-330000, -380000), y_range=(6500000, 7450000),plot_height=700, plot_width=500,\n",
    "           x_axis_type=\"mercator\", y_axis_type=\"mercator\", tools=[hover, 'wheel_zoom','save','pan','box_zoom','reset'],\n",
    "          toolbar_location=\"below\")\n",
    "location_fig.add_tile(get_provider(Vendors.CARTODBPOSITRON))\n",
    "location_fig.circle(x = 'X_Coords',\n",
    "         y = 'Y_Coords',\n",
    "         source=win_percent_cds,\n",
    "         size=   {'field': 'AwayWinPct', 'transform': size_mapper},\n",
    "         color = {'field': 'Region', 'transform': color_mapper},\n",
    "         alpha=0.5,\n",
    "         legend = 'Region')\n",
    "\n",
    "# Configure legend and title\n",
    "location_fig.legend.border_line_color = None\n",
    "location_fig.legend.click_policy=\"hide\"\n",
    "location_fig.right.append(location_fig.legend[0])\n",
    "location_fig.title.text = 'Arsenal vs Premiership since 2009' "
   ]
  },
  {
   "cell_type": "markdown",
   "metadata": {},
   "source": [
    "### Setup HTML page and display the chart "
   ]
  },
  {
   "cell_type": "code",
   "execution_count": 364,
   "metadata": {},
   "outputs": [],
   "source": [
    "# Output to file\n",
    "output_file('index.html', title=\"Come on you Gunners\")\n",
    "\n",
    "#Increase the plot widths\n",
    "location_fig.plot_width = goals_fig.plot_width = points_fig.plot_width = 800\n",
    "\n",
    "# Create two panels, one for each conference\n",
    "goals_panel = Panel(child=goals_fig, title='Goals by Season')\n",
    "location_panel = Panel(child=location_fig, title='Wins by Stadium Location')\n",
    "points_panel= Panel(child=points_fig, title='Points by Season')\n",
    "\n",
    "# Assign the panels to Tabs\n",
    "tabs = Tabs(tabs=[location_panel, goals_panel, points_panel])\n",
    "\n",
    "# Show the tabbed layout\n",
    "show(tabs)"
   ]
  },
  {
   "cell_type": "code",
   "execution_count": null,
   "metadata": {},
   "outputs": [],
   "source": []
  },
  {
   "cell_type": "code",
   "execution_count": null,
   "metadata": {},
   "outputs": [],
   "source": []
  }
 ],
 "metadata": {
  "kernelspec": {
   "display_name": "Python 3",
   "language": "python",
   "name": "python3"
  },
  "language_info": {
   "codemirror_mode": {
    "name": "ipython",
    "version": 3
   },
   "file_extension": ".py",
   "mimetype": "text/x-python",
   "name": "python",
   "nbconvert_exporter": "python",
   "pygments_lexer": "ipython3",
   "version": "3.6.5"
  }
 },
 "nbformat": 4,
 "nbformat_minor": 2
}
